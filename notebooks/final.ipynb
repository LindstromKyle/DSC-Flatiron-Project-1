{
 "cells": [
  {
   "cell_type": "markdown",
   "metadata": {},
   "source": [
    "# DSC Project 1 - Breaking into the Film Industry\n"
   ]
  },
  {
   "cell_type": "markdown",
   "metadata": {},
   "source": [
    "## OVERVIEW\n",
    "\n",
    "\n",
    "Microsoft Corporation is a multinational technology corporation known for their manufacturing of consumer electronics as well as software and other IoT related services.  In comparison to other tech giants like Amazon or Apple, Microsoft does not currently have its own operations for creating original video content. Should Microsoft choose to diversify and “throw it’s hat” into movie making, what would they need to do to ensure a successful breakthrough?"
   ]
  },
  {
   "cell_type": "markdown",
   "metadata": {},
   "source": [
    "## BUSINESS PROBLEM\t\n",
    "\n",
    "\n",
    "##### If Microsoft or any organization were to consider breaking through to the film and movie making industry, how can we leverage and utilize data from various online sources (including databases) to develop a strategy worth investing in as it both generates ideal return or profit whilst minimizing risk. The questions we aim to answer are: \n",
    "\n",
    "- Who are the top production studios in the industry and what genres are they capitalizing on?\n",
    "- As a new studio, should we choose to compete in those genres or are there profitable alternatives?\n",
    "- How much of an investment is needed to reach sustainable profit (long term)?\n",
    "- Are there additional trends successful franchises share that we can capitalize on?  \n",
    "- After understanding the type of film to be profitable and the level of investment needed, how do we determine the talent that will ensure success of this project?\n"
   ]
  },
  {
   "cell_type": "markdown",
   "metadata": {},
   "source": []
  },
  {
   "cell_type": "markdown",
   "metadata": {},
   "source": [
    "## Data Understanding\n",
    "\n",
    "Through a combination of web-scraped data (The Numbers, Rotten Tomatoes, Box Office Mojo, The Movie database)  and querying the Internet Movie Database (IMDB), we cleaned/scrubbed/merged data from various tables to create data frames we could use to:\n",
    "-\tCalculate ROI and Profit margin using Production Budgets (cost) and Box Office Gross (revenue)  \n",
    "-\tIdentify movie genres with the highest ROI’s and Profit margins \n",
    "-\tIdentify the median for profit margins to determine most profitable genre\n",
    "-\tCalculate the total box office gross for each studio to identify market share of competitors \n",
    "-\tFind the breakdown of movies for each genre produced by studios with largest market share \n",
    "-\tCalculate the total number of movies in each genre (from every studio) to find market saturation\n",
    "-\tCompare relationship between Production Budget and Profit Margin \n",
    "-\tFind median profit margin from top studios and calculate an average\n",
    "-\t((Title data explanation here))\n",
    "-\tCalcu\n"
   ]
  },
  {
   "cell_type": "code",
   "execution_count": null,
   "metadata": {},
   "outputs": [],
   "source": []
  },
  {
   "cell_type": "markdown",
   "metadata": {},
   "source": [
    "## Methods"
   ]
  },
  {
   "cell_type": "code",
   "execution_count": null,
   "metadata": {},
   "outputs": [],
   "source": []
  },
  {
   "cell_type": "code",
   "execution_count": null,
   "metadata": {},
   "outputs": [],
   "source": []
  },
  {
   "cell_type": "code",
   "execution_count": null,
   "metadata": {},
   "outputs": [],
   "source": []
  },
  {
   "cell_type": "code",
   "execution_count": null,
   "metadata": {},
   "outputs": [],
   "source": []
  },
  {
   "cell_type": "code",
   "execution_count": null,
   "metadata": {},
   "outputs": [],
   "source": []
  },
  {
   "cell_type": "code",
   "execution_count": null,
   "metadata": {},
   "outputs": [],
   "source": []
  },
  {
   "cell_type": "code",
   "execution_count": null,
   "metadata": {},
   "outputs": [],
   "source": []
  },
  {
   "cell_type": "code",
   "execution_count": null,
   "metadata": {},
   "outputs": [],
   "source": []
  },
  {
   "cell_type": "code",
   "execution_count": null,
   "metadata": {},
   "outputs": [],
   "source": []
  },
  {
   "cell_type": "code",
   "execution_count": null,
   "metadata": {},
   "outputs": [],
   "source": []
  },
  {
   "cell_type": "markdown",
   "metadata": {},
   "source": [
    "## Results"
   ]
  },
  {
   "cell_type": "code",
   "execution_count": null,
   "metadata": {},
   "outputs": [],
   "source": []
  },
  {
   "cell_type": "markdown",
   "metadata": {},
   "source": [
    "### Business Recommendation 1"
   ]
  },
  {
   "cell_type": "markdown",
   "metadata": {},
   "source": [
    "1.\tOf the most profitable genres with the least amount of saturation (movies) and little to no presence (competition) from the other big studios, Sci-fi and Thrillers proved to have the most opportunity for breakthrough "
   ]
  },
  {
   "cell_type": "markdown",
   "metadata": {},
   "source": [
    "### Business Recommendation 2"
   ]
  },
  {
   "cell_type": "code",
   "execution_count": null,
   "metadata": {},
   "outputs": [],
   "source": []
  },
  {
   "cell_type": "markdown",
   "metadata": {},
   "source": [
    "### Business Recommendation 3"
   ]
  },
  {
   "cell_type": "code",
   "execution_count": null,
   "metadata": {},
   "outputs": [],
   "source": []
  }
 ],
 "metadata": {
  "kernelspec": {
   "display_name": "Python (learn-env)",
   "language": "python",
   "name": "learn-env"
  },
  "language_info": {
   "codemirror_mode": {
    "name": "ipython",
    "version": 3
   },
   "file_extension": ".py",
   "mimetype": "text/x-python",
   "name": "python",
   "nbconvert_exporter": "python",
   "pygments_lexer": "ipython3",
   "version": "3.8.5"
  }
 },
 "nbformat": 4,
 "nbformat_minor": 4
}
